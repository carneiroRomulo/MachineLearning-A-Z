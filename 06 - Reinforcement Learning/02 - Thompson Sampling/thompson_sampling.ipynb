{
  "nbformat": 4,
  "nbformat_minor": 0,
  "metadata": {
    "colab": {
      "name": "thompson_sampling.ipynb",
      "provenance": [],
      "collapsed_sections": []
    },
    "kernelspec": {
      "name": "python3",
      "display_name": "Python 3"
    }
  },
  "cells": [
    {
      "cell_type": "markdown",
      "metadata": {
        "id": "vPKTIRAtx232"
      },
      "source": [
        "# Thompson Sampling"
      ]
    },
    {
      "cell_type": "markdown",
      "metadata": {
        "id": "PqPv9zpAx-EE"
      },
      "source": [
        "## Importing the libraries"
      ]
    },
    {
      "cell_type": "code",
      "metadata": {
        "id": "lozuE-Fhx_QB"
      },
      "source": [
        "import numpy as np\n",
        "import matplotlib.pyplot as plt\n",
        "import pandas as pd"
      ],
      "execution_count": 1,
      "outputs": []
    },
    {
      "cell_type": "markdown",
      "metadata": {
        "id": "iqpVk5HhyGmO"
      },
      "source": [
        "## Importing the dataset"
      ]
    },
    {
      "cell_type": "code",
      "metadata": {
        "id": "kY4zzW4hyNfA"
      },
      "source": [
        "dataset = pd.read_csv('Ads_CTR_Optimisation.csv')"
      ],
      "execution_count": 2,
      "outputs": []
    },
    {
      "cell_type": "markdown",
      "metadata": {
        "id": "WqoXeWOYyQhB"
      },
      "source": [
        "## Implementing Thompson Sampling"
      ]
    },
    {
      "cell_type": "code",
      "metadata": {
        "id": "PCiHv51pyUII"
      },
      "source": [
        "import random\n",
        "N = 500\n",
        "d = 10\n",
        "ads_selected = []\n",
        "numbers_of_rewards_1 = [0] * d\n",
        "numbers_of_rewards_0 = [0] * d\n",
        "total_reward = 0\n",
        "for n in range(0, N):\n",
        "    ad = 0\n",
        "    max_random = 0\n",
        "    for i in range(0, d):\n",
        "        random_beta = random.betavariate(numbers_of_rewards_1[i] + 1, numbers_of_rewards_0[i] + 1)\n",
        "        if random_beta > max_random:\n",
        "            max_random = random_beta\n",
        "            ad = i\n",
        "    ads_selected.append(ad)\n",
        "    reward = dataset.values[n, ad]\n",
        "    if reward == 1:\n",
        "        numbers_of_rewards_1[ad] = numbers_of_rewards_1[ad] + 1\n",
        "    else:\n",
        "        numbers_of_rewards_0[ad] = numbers_of_rewards_0[ad] + 1\n",
        "    total_reward = total_reward + reward"
      ],
      "execution_count": 3,
      "outputs": []
    },
    {
      "cell_type": "markdown",
      "metadata": {
        "id": "tweWsgTHyXhv"
      },
      "source": [
        "## Visualising the results - Histogram"
      ]
    },
    {
      "cell_type": "code",
      "metadata": {
        "id": "k8DJmN06yak3",
        "colab": {
          "base_uri": "https://localhost:8080/",
          "height": 295
        },
        "outputId": "accd1529-17a9-4afd-c3a8-9ebc7e9dfab2"
      },
      "source": [
        "plt.hist(ads_selected)\n",
        "plt.title('Histogram of ads selections')\n",
        "plt.xlabel('Ads')\n",
        "plt.ylabel('Number of times each ad was selected')\n",
        "plt.show()"
      ],
      "execution_count": 4,
      "outputs": [
        {
          "output_type": "display_data",
          "data": {
            "image/png": "[encoded data removed]",
            "text/plain": [
              "<Figure size 432x288 with 1 Axes>"
            ]
          },
          "metadata": {
            "tags": [],
            "needs_background": "light"
          }
        }
      ]
    }
  ]
}
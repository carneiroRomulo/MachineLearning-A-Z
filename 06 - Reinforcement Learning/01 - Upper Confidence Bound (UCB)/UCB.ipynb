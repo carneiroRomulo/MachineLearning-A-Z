{
  "nbformat": 4,
  "nbformat_minor": 0,
  "metadata": {
    "colab": {
      "name": "UCB.ipynb",
      "provenance": []
    },
    "kernelspec": {
      "name": "python3",
      "display_name": "Python 3"
    }
  },
  "cells": [
    {
      "cell_type": "markdown",
      "metadata": {
        "id": "KtOqxqVaGd1F"
      },
      "source": [
        "# Upper Confidence Bound (UCB)"
      ]
    },
    {
      "cell_type": "markdown",
      "metadata": {
        "id": "-R9tvepIGd4D"
      },
      "source": [
        "## Importing Libraries"
      ]
    },
    {
      "cell_type": "code",
      "metadata": {
        "id": "Wm4u0T73GZ1g"
      },
      "source": [
        "import numpy as np\n",
        "import pandas as pd\n",
        "import matplotlib.pyplot as plt"
      ],
      "execution_count": 2,
      "outputs": []
    },
    {
      "cell_type": "markdown",
      "metadata": {
        "id": "pQZo_oawGd6X"
      },
      "source": [
        "## Importing Dataset"
      ]
    },
    {
      "cell_type": "code",
      "metadata": {
        "id": "ff6tVaQQH8jP"
      },
      "source": [
        "dataset = pd.read_csv('Ads_CTR_Optimisation.csv')"
      ],
      "execution_count": 3,
      "outputs": []
    },
    {
      "cell_type": "markdown",
      "metadata": {
        "id": "D6mU3apWGd8Y"
      },
      "source": [
        "## Implementing UCB"
      ]
    },
    {
      "cell_type": "code",
      "metadata": {
        "id": "fUCxzqKpH8_V"
      },
      "source": [
        "import math\n",
        "\n",
        "# N = number of users we're showing an ad to\n",
        "N = 1000\n",
        " \n",
        "# d = number of ads we are testing\n",
        "d = 10\n",
        " \n",
        "# list of ads we've chosen to show to each users (length = N)\n",
        "ads_selected = []\n",
        " \n",
        "# list tracking the count of times each ad has been shown to users (length = d)\n",
        "number_of_selections = [0] * d\n",
        " \n",
        "# list tracking the count of times each ad has been clicked by a user\n",
        "sum_of_rewards = [0] * d\n",
        " \n",
        "# count of the total times users have clicked an ad\n",
        "total_reward = 0 \n",
        " \n",
        "# n is an int representing each user\n",
        "for n in range(0, N):\n",
        "  # ad = the number of the ad (column number)\n",
        "  ad = 0 \n",
        "  # max_upper_bound is the highest upper bound among our 10 ads\n",
        "  max_upper_bound = 0 \n",
        " \n",
        "  # i is an int representing each ad\n",
        "  for i in range(0, d):\n",
        "    # if the ad has been shown to a user at least once:\n",
        "    if number_of_selections[i] > 0:\n",
        "      # average_reward is the (number of times ad is clicked) / (number of times ad is shown)\n",
        "      average_reward = sum_of_rewards[i] / number_of_selections[i]\n",
        "      # delta_i is the confidence interval formula we saw in the video\n",
        "      delta_i = math.sqrt(3/2 * math.log(n + 1)/number_of_selections[i])\n",
        "      # this is the upper confidence bound, our average clickrate of the ad + the confidence interval of the ad\n",
        "      upper_bound = average_reward + delta_i\n",
        "    else:\n",
        "      # ad hasn't been shown yet so we set a higher upper_bound to force it to be selected\n",
        "      upper_bound = 1e400\n",
        " \n",
        "    # as loop through our 10 ads, we use this max_upper_bound to track which of our 10 ads has the highest upper_bound\n",
        "    if (upper_bound > max_upper_bound):\n",
        "      max_upper_bound = upper_bound\n",
        "      ad=i # ad i is the ad we will show the user\n",
        "  \n",
        "  # add i to our list tracking which ads we've shown\n",
        "  ads_selected.append(ad) \n",
        "  # add 1 to our count of times we've shown ad i\n",
        "  number_of_selections[ad] += 1\n",
        "  # look up in our dataset and check whether user n clicks ad i \n",
        "  # 1 means they clicked the ad, 0 means they didn't click the ad\n",
        "  reward = dataset.values[n, ad] \n",
        "  # add that reward to our count of times ad i has been clicked\n",
        "  sum_of_rewards[ad] += reward\n",
        "  # add that reward to our count of times *ANY* ad has been clicked\n",
        "  total_reward += reward"
      ],
      "execution_count": 32,
      "outputs": []
    },
    {
      "cell_type": "markdown",
      "metadata": {
        "id": "LatsJCLiH5bG"
      },
      "source": [
        "## Visualising Results"
      ]
    },
    {
      "cell_type": "code",
      "metadata": {
        "colab": {
          "base_uri": "https://localhost:8080/",
          "height": 295
        },
        "id": "KDPJPDMiH8QJ",
        "outputId": "b72f9e7a-54c5-48e8-fe18-312d8b4d286a"
      },
      "source": [
        "plt.hist(ads_selected)\n",
        "plt.title('Histogram of Ads Selections')\n",
        "plt.xlabel('Ads')\n",
        "plt.ylabel('Number of times each ad was selected')\n",
        "plt.show()"
      ],
      "execution_count": 33,
      "outputs": [
        {
          "output_type": "display_data",
          "data": {
            "image/png": "[encoded data removed]",
            "text/plain": [
              "<Figure size 432x288 with 1 Axes>"
            ]
          },
          "metadata": {
            "tags": [],
            "needs_background": "light"
          }
        }
      ]
    },
    {
      "cell_type": "code",
      "metadata": {
        "id": "vCWJwHMKW8Tp"
      },
      "source": [
        ""
      ],
      "execution_count": null,
      "outputs": []
    }
  ]
}